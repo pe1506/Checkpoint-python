{
  "nbformat": 4,
  "nbformat_minor": 0,
  "metadata": {
    "colab": {
      "provenance": [],
      "authorship_tag": "ABX9TyNZLXGTnUuOku97YhQO/vkL",
      "include_colab_link": true
    },
    "kernelspec": {
      "name": "python3",
      "display_name": "Python 3"
    },
    "language_info": {
      "name": "python"
    }
  },
  "cells": [
    {
      "cell_type": "markdown",
      "metadata": {
        "id": "view-in-github",
        "colab_type": "text"
      },
      "source": [
        "<a href=\"https://colab.research.google.com/github/pe1506/Checkpoint-python/blob/main/Checkpoint4.ipynb\" target=\"_parent\"><img src=\"https://colab.research.google.com/assets/colab-badge.svg\" alt=\"Open In Colab\"/></a>"
      ]
    },
    {
      "cell_type": "code",
      "execution_count": 7,
      "metadata": {
        "colab": {
          "base_uri": "https://localhost:8080/"
        },
        "id": "lWdQ_VI20a0z",
        "outputId": "c5dd2927-ed82-4df7-b8c1-f71adf21c087"
      },
      "outputs": [
        {
          "output_type": "stream",
          "name": "stdout",
          "text": [
            " Informações do DataFrame:\n",
            "<class 'pandas.core.frame.DataFrame'>\n",
            "RangeIndex: 2075259 entries, 0 to 2075258\n",
            "Data columns (total 9 columns):\n",
            " #   Column                 Dtype  \n",
            "---  ------                 -----  \n",
            " 0   Date                   object \n",
            " 1   Time                   object \n",
            " 2   Global_active_power    float64\n",
            " 3   Global_reactive_power  float64\n",
            " 4   Voltage                float64\n",
            " 5   Global_intensity       float64\n",
            " 6   Sub_metering_1         float64\n",
            " 7   Sub_metering_2         float64\n",
            " 8   Sub_metering_3         float64\n",
            "dtypes: float64(7), object(2)\n",
            "memory usage: 142.5+ MB\n",
            "None\n",
            "\n",
            " Estatísticas descritivas:\n",
            "       Global_active_power  Global_reactive_power       Voltage  \\\n",
            "count         2.049280e+06           2.049280e+06  2.049280e+06   \n",
            "mean          1.091615e+00           1.237145e-01  2.408399e+02   \n",
            "std           1.057294e+00           1.127220e-01  3.239987e+00   \n",
            "min           7.600000e-02           0.000000e+00  2.232000e+02   \n",
            "25%           3.080000e-01           4.800000e-02  2.389900e+02   \n",
            "50%           6.020000e-01           1.000000e-01  2.410100e+02   \n",
            "75%           1.528000e+00           1.940000e-01  2.428900e+02   \n",
            "max           1.112200e+01           1.390000e+00  2.541500e+02   \n",
            "\n",
            "       Global_intensity  Sub_metering_1  Sub_metering_2  Sub_metering_3  \n",
            "count      2.049280e+06    2.049280e+06    2.049280e+06    2.049280e+06  \n",
            "mean       4.627759e+00    1.121923e+00    1.298520e+00    6.458447e+00  \n",
            "std        4.444396e+00    6.153031e+00    5.822026e+00    8.437154e+00  \n",
            "min        2.000000e-01    0.000000e+00    0.000000e+00    0.000000e+00  \n",
            "25%        1.400000e+00    0.000000e+00    0.000000e+00    0.000000e+00  \n",
            "50%        2.600000e+00    0.000000e+00    0.000000e+00    1.000000e+00  \n",
            "75%        6.400000e+00    0.000000e+00    1.000000e+00    1.700000e+01  \n",
            "max        4.840000e+01    8.800000e+01    8.000000e+01    3.100000e+01  \n",
            "\n",
            " Formato do DataFrame (linhas, colunas): (2075259, 9)\n",
            "\n",
            " Valores ausentes por coluna:\n",
            "Date                         0\n",
            "Time                         0\n",
            "Global_active_power      25979\n",
            "Global_reactive_power    25979\n",
            "Voltage                  25979\n",
            "Global_intensity         25979\n",
            "Sub_metering_1           25979\n",
            "Sub_metering_2           25979\n",
            "Sub_metering_3           25979\n",
            "dtype: int64\n",
            "\n",
            " Formato após remoção dos valores ausentes: (2049280, 9)\n",
            "\n",
            " Métricas no DataFrame completo:\n",
            "        Global_active_power  Global_intensity  Sub_metering_3\n",
            "mean               1.091615          4.627759        6.458447\n",
            "median             0.602000          2.600000        1.000000\n",
            "std                1.057294          4.444396        8.437154\n"
          ]
        },
        {
          "output_type": "stream",
          "name": "stderr",
          "text": [
            "/tmp/ipython-input-3427330823.py:19: FutureWarning: errors='ignore' is deprecated and will raise in a future version. Use to_numeric without passing `errors` and catch exceptions explicitly instead\n",
            "  dados_limpos = dados_limpos.apply(pd.to_numeric, errors='ignore')\n"
          ]
        },
        {
          "output_type": "stream",
          "name": "stdout",
          "text": [
            "\n",
            " Métricas na amostra (1% dos dados):\n",
            "        Global_active_power  Global_intensity  Sub_metering_3\n",
            "mean               1.100869          4.665613        6.566437\n",
            "median             0.634000          2.800000        1.000000\n",
            "std                1.059972          4.451194        8.484950\n"
          ]
        }
      ],
      "source": [
        "#Christopher 563318\n",
        "#Erick 565268\n",
        "#Pedro 565575\n",
        "#Mateus 564021\n",
        "#Tiago 562129\n",
        "#Luiz 564390\n",
        "\n",
        "import pandas as pd\n",
        "\n",
        "dados = pd.read_csv('household_power_consumption.txt', sep=';', na_values='?', low_memory=False)\n",
        "\n",
        "print(\" Informações do DataFrame:\")\n",
        "print(dados.info())\n",
        "\n",
        "print(\"\\n Estatísticas descritivas:\")\n",
        "print(dados.describe())\n",
        "\n",
        "print(\"\\n Formato do DataFrame (linhas, colunas):\", dados.shape)\n",
        "\n",
        "print(\"\\n Valores ausentes por coluna:\")\n",
        "print(dados.isna().sum())\n",
        "\n",
        "dados_limpos = dados.dropna()\n",
        "print(\"\\n Formato após remoção dos valores ausentes:\", dados_limpos.shape)\n",
        "\n",
        "dados_limpos = dados_limpos.apply(pd.to_numeric, errors='ignore')\n",
        "\n",
        "colunas_desejadas = ['Global_active_power', 'Global_intensity', 'Sub_metering_3']\n",
        "df = dados_limpos[colunas_desejadas]\n",
        "\n",
        "print(\"\\n Métricas no DataFrame completo:\")\n",
        "print(df.agg(['mean', 'median', 'std']))\n",
        "\n",
        "amostra = df.sample(frac=0.01, random_state=42)\n",
        "print(\"\\n Métricas na amostra (1% dos dados):\")\n",
        "print(amostra.agg(['mean', 'median', 'std']))\n"
      ]
    }
  ]
}