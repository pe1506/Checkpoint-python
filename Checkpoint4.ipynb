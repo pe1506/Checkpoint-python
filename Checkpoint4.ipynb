{
  "nbformat": 4,
  "nbformat_minor": 0,
  "metadata": {
    "colab": {
      "provenance": [],
      "authorship_tag": "ABX9TyPnJKw2Cm7Up+MwGqqgayfl",
      "include_colab_link": true
    },
    "kernelspec": {
      "name": "python3",
      "display_name": "Python 3"
    },
    "language_info": {
      "name": "python"
    }
  },
  "cells": [
    {
      "cell_type": "markdown",
      "metadata": {
        "id": "view-in-github",
        "colab_type": "text"
      },
      "source": [
        "<a href=\"https://colab.research.google.com/github/pe1506/Checkpoint-python/blob/main/Checkpoint4.ipynb\" target=\"_parent\"><img src=\"https://colab.research.google.com/assets/colab-badge.svg\" alt=\"Open In Colab\"/></a>"
      ]
    },
    {
      "cell_type": "code",
      "execution_count": 11,
      "metadata": {
        "id": "xW_9lX904ZlK",
        "colab": {
          "base_uri": "https://localhost:8080/"
        },
        "outputId": "4e015e54-a93f-414c-e139-1beb3d79797d"
      },
      "outputs": [
        {
          "output_type": "stream",
          "name": "stdout",
          "text": [
            " INFORMAÇÕES DO CONJUNTO DE DADOS\n",
            "<class 'pandas.core.frame.DataFrame'>\n",
            "RangeIndex: 2075259 entries, 0 to 2075258\n",
            "Data columns (total 9 columns):\n",
            " #   Column                 Dtype  \n",
            "---  ------                 -----  \n",
            " 0   Date                   object \n",
            " 1   Time                   object \n",
            " 2   Global_active_power    float64\n",
            " 3   Global_reactive_power  float64\n",
            " 4   Voltage                float64\n",
            " 5   Global_intensity       float64\n",
            " 6   Sub_metering_1         float64\n",
            " 7   Sub_metering_2         float64\n",
            " 8   Sub_metering_3         float64\n",
            "dtypes: float64(7), object(2)\n",
            "memory usage: 142.5+ MB\n",
            "None\n",
            "\n",
            " ESTATÍSTICAS DESCRITIVAS\n",
            "       Global_active_power  Global_reactive_power       Voltage  \\\n",
            "count         2.049280e+06           2.049280e+06  2.049280e+06   \n",
            "mean          1.091615e+00           1.237145e-01  2.408399e+02   \n",
            "std           1.057294e+00           1.127220e-01  3.239987e+00   \n",
            "min           7.600000e-02           0.000000e+00  2.232000e+02   \n",
            "25%           3.080000e-01           4.800000e-02  2.389900e+02   \n",
            "50%           6.020000e-01           1.000000e-01  2.410100e+02   \n",
            "75%           1.528000e+00           1.940000e-01  2.428900e+02   \n",
            "max           1.112200e+01           1.390000e+00  2.541500e+02   \n",
            "\n",
            "       Global_intensity  Sub_metering_1  Sub_metering_2  Sub_metering_3  \n",
            "count      2.049280e+06    2.049280e+06    2.049280e+06    2.049280e+06  \n",
            "mean       4.627759e+00    1.121923e+00    1.298520e+00    6.458447e+00  \n",
            "std        4.444396e+00    6.153031e+00    5.822026e+00    8.437154e+00  \n",
            "min        2.000000e-01    0.000000e+00    0.000000e+00    0.000000e+00  \n",
            "25%        1.400000e+00    0.000000e+00    0.000000e+00    0.000000e+00  \n",
            "50%        2.600000e+00    0.000000e+00    0.000000e+00    1.000000e+00  \n",
            "75%        6.400000e+00    0.000000e+00    1.000000e+00    1.700000e+01  \n",
            "max        4.840000e+01    8.800000e+01    8.000000e+01    3.100000e+01  \n",
            "\n",
            " FORMATO DO CONJUNTO - linhas, colunas\n",
            "(2075259, 9)\n",
            "\n",
            " ESTATÍSTICAS - DADOS COMPLETOS\n",
            "Média:\n",
            " Global_active_power    1.091615\n",
            "Global_intensity       4.627759\n",
            "Sub_metering_3         6.458447\n",
            "dtype: float64\n",
            "\n",
            "Mediana:\n",
            " Global_active_power    0.602\n",
            "Global_intensity       2.600\n",
            "Sub_metering_3         1.000\n",
            "dtype: float64\n",
            "\n",
            "Desvio padrão (populacional):\n",
            " Global_active_power    1.057294\n",
            "Global_intensity       4.444395\n",
            "Sub_metering_3         8.437152\n",
            "dtype: float64\n",
            "\n",
            " ESTATÍSTICAS - AMOSTRA (10%)\n",
            "Média:\n",
            " Global_active_power    1.093172\n",
            "Global_intensity       4.634430\n",
            "Sub_metering_3         6.477397\n",
            "dtype: float64\n",
            "\n",
            "Mediana:\n",
            " Global_active_power    0.6\n",
            "Global_intensity       2.6\n",
            "Sub_metering_3         1.0\n",
            "dtype: float64\n",
            "\n",
            "Desvio padrão (populacional):\n",
            " Global_active_power    1.063327\n",
            "Global_intensity       4.469315\n",
            "Sub_metering_3         8.452191\n",
            "dtype: float64\n"
          ]
        }
      ],
      "source": [
        "import pandas as pd\n",
        "\n",
        "dados = pd.read_csv(\"household_power_consumption.txt\", sep=\";\", na_values=\"?\", low_memory=False)\n",
        "\n",
        "print(\" INFORMAÇÕES DO CONJUNTO DE DADOS\")\n",
        "print(dados.info())\n",
        "\n",
        "print(\"\\n ESTATÍSTICAS DESCRITIVAS\")\n",
        "print(dados.describe())\n",
        "\n",
        "print(\"\\n FORMATO DO CONJUNTO - linhas, colunas\")\n",
        "print(dados.shape)\n",
        "\n",
        "dados_limpos = dados.dropna().copy()\n",
        "\n",
        "colunas_numericas = dados_limpos.columns.difference(['Date', 'Time'])\n",
        "\n",
        "for coluna in colunas_numericas:\n",
        "    dados_limpos.loc[:, coluna] = pd.to_numeric(dados_limpos[coluna], errors='coerce')\n",
        "\n",
        "\n",
        "dados_selecionados = dados_limpos[[\"Global_active_power\", \"Global_intensity\", \"Sub_metering_3\"]]\n",
        "\n",
        "print(\"\\n ESTATÍSTICAS - DADOS COMPLETOS\")\n",
        "print(\"Média:\\n\", dados_selecionados.mean())\n",
        "print(\"\\nMediana:\\n\", dados_selecionados.median())\n",
        "print(\"\\nDesvio padrão (populacional):\\n\", dados_selecionados.std(ddof=0))\n",
        "\n",
        "amostra = dados_selecionados.sample(frac=0.1, random_state=42)\n",
        "\n",
        "print(\"\\n ESTATÍSTICAS - AMOSTRA (10%)\")\n",
        "print(\"Média:\\n\", amostra.mean())\n",
        "print(\"\\nMediana:\\n\", amostra.median())\n",
        "print(\"\\nDesvio padrão (populacional):\\n\", amostra.std(ddof=0))\n"
      ]
    }
  ]
}